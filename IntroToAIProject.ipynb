{
  "nbformat": 4,
  "nbformat_minor": 0,
  "metadata": {
    "colab": {
      "provenance": [],
      "authorship_tag": "ABX9TyMBWxvEq4z3/C1XdNkHj//o",
      "include_colab_link": true
    },
    "kernelspec": {
      "name": "python3",
      "display_name": "Python 3"
    },
    "language_info": {
      "name": "python"
    }
  },
  "cells": [
    {
      "cell_type": "markdown",
      "metadata": {
        "id": "view-in-github",
        "colab_type": "text"
      },
      "source": [
        "<a href=\"https://colab.research.google.com/github/bengi123/IntroToAIProject/blob/main/IntroToAIProject.ipynb\" target=\"_parent\"><img src=\"https://colab.research.google.com/assets/colab-badge.svg\" alt=\"Open In Colab\"/></a>"
      ]
    },
    {
      "cell_type": "code",
      "execution_count": 89,
      "metadata": {
        "id": "RrhACGXhV390"
      },
      "outputs": [],
      "source": [
        "# imports\n",
        "import requests\n",
        "from bs4 import BeautifulSoup\n",
        "import os\n",
        "import re\n",
        "import urllib\n",
        "import json\n",
        "import time\n"
      ]
    },
    {
      "cell_type": "code",
      "source": [
        "# get user input\n",
        "\n",
        "def print_one_letter_at_a_time(message):\n",
        "    for letter in message:\n",
        "        print(letter, end='', flush=True)\n",
        "        time.sleep(0.05)  # Adjust the sleep duration to control the speed\n",
        "\n",
        "# Welcome message\n",
        "welcome_message = \"Welcome to The Music Recommender App\"\n",
        "input_message = \"Please, input your lyric keyword(s) or a believed song title and then we will handle the rest:\"\n",
        "\n",
        "print_one_letter_at_a_time(welcome_message)\n",
        "print(\"\\n\")\n",
        "\n",
        "print_one_letter_at_a_time(input_message)\n",
        "print(\"\\n\")\n",
        "\n",
        "# Ask for user input\n",
        "search_term = input()"
      ],
      "metadata": {
        "colab": {
          "base_uri": "https://localhost:8080/"
        },
        "id": "P0vdNvrYHqAO",
        "outputId": "9a6fe96b-b056-4174-ae62-3bb688418c27"
      },
      "execution_count": 83,
      "outputs": [
        {
          "name": "stdout",
          "output_type": "stream",
          "text": [
            "Welcome to The Music Recommender App\n",
            "\n",
            "Please, input your lyric keyword(s) or a believed song title and then we will handle the rest:\n",
            "\n",
            "data\n"
          ]
        }
      ]
    },
    {
      "cell_type": "code",
      "source": [
        "# Define the search term and API details\n",
        "\n",
        "#format URI\n",
        "#search_term = \"super\"\n",
        "_URL_API = \"https://api.genius.com/\"\n",
        "_URL_SEARCH = \"search?q=\"\n",
        "client_access_token = \"TeQ7BUxahGZYJxDCUO8i9CYno_Bs0RYCnGK1_nKQB1yzz2gaxdjZLKRcJQLdNdOn\"\n",
        "\n",
        "# Initialize a list to store all the hits\n",
        "all_hits = []\n",
        "\n",
        "# Make requests for multiple pages\n",
        "for page_number in range(1, 6):  #With 1 results per page, I go through 5 pages to get 50 results\n",
        "    querystring = f\"{_URL_API}{_URL_SEARCH}{urllib.parse.quote(search_term)}&per_page=10&page={page_number}\"\n",
        "    request = urllib.request.Request(querystring)\n",
        "    request.add_header(\"Authorization\", \"Bearer \" + client_access_token)\n",
        "    request.add_header(\"User-Agent\", \"\")\n",
        "    response = urllib.request.urlopen(request, timeout=3) # make request to database\n",
        "    data = response.read()\n",
        "    json_obj = json.loads(data) # convert to json\n",
        "\n",
        "    # Add the hits from this page to the list of all hits\n",
        "    all_hits.extend(json_obj['response']['hits'])\n"
      ],
      "metadata": {
        "id": "maijOrBDaMui"
      },
      "execution_count": 84,
      "outputs": []
    },
    {
      "cell_type": "code",
      "source": [
        "# print 50 titles\n",
        "for hit in all_hits:\n",
        "    print(hit['result']['title'])\n",
        "\n",
        "# nNEXT STEP: take the titles and find the nearest neighbors ,of sklearn ,of them after converting the titles into numberical forms"
      ],
      "metadata": {
        "colab": {
          "base_uri": "https://localhost:8080/"
        },
        "id": "6GhpRrOUesIz",
        "outputId": "c0d04182-4bd3-4b3f-d297-c7c35ef730bc"
      },
      "execution_count": 86,
      "outputs": [
        {
          "output_type": "stream",
          "name": "stdout",
          "text": [
            "Dangerous\n",
            "Andaikan Kau Datang\n",
            "Don’t Sing\n",
            "Data & Picard\n",
            "Data Love\n",
            "Andaikan Kau Datang\n",
            "Mucha Data\n",
            "LEGO Mindstorms NXT Recommended Projects Database\n",
            "Database\n",
            "Cinta Datang Terlambat\n",
            "Kangen (Ku Kan Datang)\n",
            "Databend\n",
            "Now\n",
            "ANGEKOMMEN\n",
            "Old Data in a Dead Machine\n",
            "Fiji\n",
            "Was soll passieren\n",
            "Louboutin\n",
            "Hal Indah Butuh Waktu Untuk Datang\n",
            "Full Bodied\n",
            "Tiba-Tiba Cinta Datang\n",
            "Highspeed\n",
            "HYPNOTIC DATA\n",
            "The Data Stream\n",
            "Put Me to Work\n",
            "Gefühl\n",
            "What Real-Time Gambling Data Reveals About Sports: Introducing Gambletron 2000\n",
            "Monster\n",
            "Big Dater\n",
            "Bentley\n",
            "Siapa yang Akan Datang ke Pemakamanmu Nanti?\n",
            "Data Archive Speech (FNAF 6)\n",
            "Big Data Trap\n",
            "Ist deine Liebe wahr\n",
            "Όλα Είναι Στο Μυαλό (Ola Einai Sto Myalo) (DATA)\n",
            "Bombs Over Brooklyn\n",
            "Computer Camp Love\n",
            "Big Data + The Internet Ain’t Safe\n",
            "Clean\n",
            "Automatic\n",
            "Anime Girl\n",
            "Fuck\n",
            "Overnight\n",
            "My World\n",
            "PROJEKT MELODY (feat. AL!CE)\n",
            "​bunte rocks\n",
            "Comin’ for Datazz\n",
            "​Icy\n",
            "The Business of Emotion\n"
          ]
        }
      ]
    }
  ]
}